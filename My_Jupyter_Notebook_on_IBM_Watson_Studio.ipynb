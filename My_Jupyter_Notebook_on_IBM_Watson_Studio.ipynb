{
  "nbformat": 4,
  "nbformat_minor": 0,
  "metadata": {
    "colab": {
      "name": "My Jupyter Notebook on IBM Watson Studio.ipynb",
      "provenance": [],
      "authorship_tag": "ABX9TyMDT5Fv8UJJmjLyeiuuCBaG",
      "include_colab_link": true
    },
    "kernelspec": {
      "name": "python3",
      "display_name": "Python 3"
    },
    "language_info": {
      "name": "python"
    }
  },
  "cells": [
    {
      "cell_type": "markdown",
      "metadata": {
        "id": "view-in-github",
        "colab_type": "text"
      },
      "source": [
        "<a href=\"https://colab.research.google.com/github/sg1435/misc_python/blob/main/My_Jupyter_Notebook_on_IBM_Watson_Studio.ipynb\" target=\"_parent\"><img src=\"https://colab.research.google.com/assets/colab-badge.svg\" alt=\"Open In Colab\"/></a>"
      ]
    },
    {
      "cell_type": "markdown",
      "source": [
        "# My Jupyter Notebook on IBM Watson Studio"
      ],
      "metadata": {
        "id": "38r2XKUdsIkQ"
      }
    },
    {
      "cell_type": "markdown",
      "source": [
        "<b> Serhat G. </b>\n",
        "\n",
        "Data Scientist"
      ],
      "metadata": {
        "id": "7JDcxDJhsQlP"
      }
    },
    {
      "cell_type": "markdown",
      "source": [
        "_I am interested in data science because I need it_"
      ],
      "metadata": {
        "id": "DsfD4n2FseCy"
      }
    },
    {
      "cell_type": "markdown",
      "source": [
        "### The code below calculates the simple math"
      ],
      "metadata": {
        "id": "LuKxZ1DOsstw"
      }
    },
    {
      "cell_type": "code",
      "source": [
        "result = 1 + 1\n",
        "print(result)"
      ],
      "metadata": {
        "colab": {
          "base_uri": "https://localhost:8080/"
        },
        "id": "zMqGv3ZustLg",
        "outputId": "927f31c9-a6aa-4d89-a973-6dd7d1fe32af"
      },
      "execution_count": 4,
      "outputs": [
        {
          "output_type": "stream",
          "name": "stdout",
          "text": [
            "2\n"
          ]
        }
      ]
    },
    {
      "cell_type": "markdown",
      "source": [
        "[This is the google link](www.google.com)\n",
        "\n",
        "- this is the first line of the list\n",
        "* This is the second line\n",
        "\n",
        "\n",
        "1. This is the numbered list\n",
        "2. This is the second line"
      ],
      "metadata": {
        "id": "qmdQ3kgXs3kx"
      }
    }
  ]
}